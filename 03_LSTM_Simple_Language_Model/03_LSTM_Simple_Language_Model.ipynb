{
  "nbformat": 4,
  "nbformat_minor": 0,
  "metadata": {
    "colab": {
      "provenance": [],
      "gpuType": "T4"
    },
    "kernelspec": {
      "name": "python3",
      "display_name": "Python 3"
    },
    "language_info": {
      "name": "python"
    },
    "accelerator": "GPU",
    "widgets": {
      "application/vnd.jupyter.widget-state+json": {
        "ef7423c7a9fc4e37a8ff9811210104f6": {
          "model_module": "@jupyter-widgets/controls",
          "model_name": "HBoxModel",
          "model_module_version": "1.5.0",
          "state": {
            "_dom_classes": [],
            "_model_module": "@jupyter-widgets/controls",
            "_model_module_version": "1.5.0",
            "_model_name": "HBoxModel",
            "_view_count": null,
            "_view_module": "@jupyter-widgets/controls",
            "_view_module_version": "1.5.0",
            "_view_name": "HBoxView",
            "box_style": "",
            "children": [
              "IPY_MODEL_fc5b3f5827d04728b7afd684c464cf40",
              "IPY_MODEL_557f0375ec1f4e18a3560fe7dbf8432d",
              "IPY_MODEL_842aa566c75e4248b9357231928cfe48"
            ],
            "layout": "IPY_MODEL_f5c52a148edb4503a0d82af102555fe4"
          }
        },
        "fc5b3f5827d04728b7afd684c464cf40": {
          "model_module": "@jupyter-widgets/controls",
          "model_name": "HTMLModel",
          "model_module_version": "1.5.0",
          "state": {
            "_dom_classes": [],
            "_model_module": "@jupyter-widgets/controls",
            "_model_module_version": "1.5.0",
            "_model_name": "HTMLModel",
            "_view_count": null,
            "_view_module": "@jupyter-widgets/controls",
            "_view_module_version": "1.5.0",
            "_view_name": "HTMLView",
            "description": "",
            "description_tooltip": null,
            "layout": "IPY_MODEL_c535e46597e54de99e6ed8d12956f53f",
            "placeholder": "​",
            "style": "IPY_MODEL_6eb8710ab95144e4b2b52f7a90b1b3dc",
            "value": "100%"
          }
        },
        "557f0375ec1f4e18a3560fe7dbf8432d": {
          "model_module": "@jupyter-widgets/controls",
          "model_name": "FloatProgressModel",
          "model_module_version": "1.5.0",
          "state": {
            "_dom_classes": [],
            "_model_module": "@jupyter-widgets/controls",
            "_model_module_version": "1.5.0",
            "_model_name": "FloatProgressModel",
            "_view_count": null,
            "_view_module": "@jupyter-widgets/controls",
            "_view_module_version": "1.5.0",
            "_view_name": "ProgressView",
            "bar_style": "success",
            "description": "",
            "description_tooltip": null,
            "layout": "IPY_MODEL_757b2de9b31141f5a2ec0538aa7d0da8",
            "max": 20,
            "min": 0,
            "orientation": "horizontal",
            "style": "IPY_MODEL_4bbdcadb66974d1983c2ff453a146de0",
            "value": 20
          }
        },
        "842aa566c75e4248b9357231928cfe48": {
          "model_module": "@jupyter-widgets/controls",
          "model_name": "HTMLModel",
          "model_module_version": "1.5.0",
          "state": {
            "_dom_classes": [],
            "_model_module": "@jupyter-widgets/controls",
            "_model_module_version": "1.5.0",
            "_model_name": "HTMLModel",
            "_view_count": null,
            "_view_module": "@jupyter-widgets/controls",
            "_view_module_version": "1.5.0",
            "_view_name": "HTMLView",
            "description": "",
            "description_tooltip": null,
            "layout": "IPY_MODEL_736a0a77d9c644dfb09dbe4a663c2ecb",
            "placeholder": "​",
            "style": "IPY_MODEL_1edb9419b2f3422cb22c03e5a5a4fe89",
            "value": " 20/20 [20:40&lt;00:00, 62.46s/it]"
          }
        },
        "f5c52a148edb4503a0d82af102555fe4": {
          "model_module": "@jupyter-widgets/base",
          "model_name": "LayoutModel",
          "model_module_version": "1.2.0",
          "state": {
            "_model_module": "@jupyter-widgets/base",
            "_model_module_version": "1.2.0",
            "_model_name": "LayoutModel",
            "_view_count": null,
            "_view_module": "@jupyter-widgets/base",
            "_view_module_version": "1.2.0",
            "_view_name": "LayoutView",
            "align_content": null,
            "align_items": null,
            "align_self": null,
            "border": null,
            "bottom": null,
            "display": null,
            "flex": null,
            "flex_flow": null,
            "grid_area": null,
            "grid_auto_columns": null,
            "grid_auto_flow": null,
            "grid_auto_rows": null,
            "grid_column": null,
            "grid_gap": null,
            "grid_row": null,
            "grid_template_areas": null,
            "grid_template_columns": null,
            "grid_template_rows": null,
            "height": null,
            "justify_content": null,
            "justify_items": null,
            "left": null,
            "margin": null,
            "max_height": null,
            "max_width": null,
            "min_height": null,
            "min_width": null,
            "object_fit": null,
            "object_position": null,
            "order": null,
            "overflow": null,
            "overflow_x": null,
            "overflow_y": null,
            "padding": null,
            "right": null,
            "top": null,
            "visibility": null,
            "width": null
          }
        },
        "c535e46597e54de99e6ed8d12956f53f": {
          "model_module": "@jupyter-widgets/base",
          "model_name": "LayoutModel",
          "model_module_version": "1.2.0",
          "state": {
            "_model_module": "@jupyter-widgets/base",
            "_model_module_version": "1.2.0",
            "_model_name": "LayoutModel",
            "_view_count": null,
            "_view_module": "@jupyter-widgets/base",
            "_view_module_version": "1.2.0",
            "_view_name": "LayoutView",
            "align_content": null,
            "align_items": null,
            "align_self": null,
            "border": null,
            "bottom": null,
            "display": null,
            "flex": null,
            "flex_flow": null,
            "grid_area": null,
            "grid_auto_columns": null,
            "grid_auto_flow": null,
            "grid_auto_rows": null,
            "grid_column": null,
            "grid_gap": null,
            "grid_row": null,
            "grid_template_areas": null,
            "grid_template_columns": null,
            "grid_template_rows": null,
            "height": null,
            "justify_content": null,
            "justify_items": null,
            "left": null,
            "margin": null,
            "max_height": null,
            "max_width": null,
            "min_height": null,
            "min_width": null,
            "object_fit": null,
            "object_position": null,
            "order": null,
            "overflow": null,
            "overflow_x": null,
            "overflow_y": null,
            "padding": null,
            "right": null,
            "top": null,
            "visibility": null,
            "width": null
          }
        },
        "6eb8710ab95144e4b2b52f7a90b1b3dc": {
          "model_module": "@jupyter-widgets/controls",
          "model_name": "DescriptionStyleModel",
          "model_module_version": "1.5.0",
          "state": {
            "_model_module": "@jupyter-widgets/controls",
            "_model_module_version": "1.5.0",
            "_model_name": "DescriptionStyleModel",
            "_view_count": null,
            "_view_module": "@jupyter-widgets/base",
            "_view_module_version": "1.2.0",
            "_view_name": "StyleView",
            "description_width": ""
          }
        },
        "757b2de9b31141f5a2ec0538aa7d0da8": {
          "model_module": "@jupyter-widgets/base",
          "model_name": "LayoutModel",
          "model_module_version": "1.2.0",
          "state": {
            "_model_module": "@jupyter-widgets/base",
            "_model_module_version": "1.2.0",
            "_model_name": "LayoutModel",
            "_view_count": null,
            "_view_module": "@jupyter-widgets/base",
            "_view_module_version": "1.2.0",
            "_view_name": "LayoutView",
            "align_content": null,
            "align_items": null,
            "align_self": null,
            "border": null,
            "bottom": null,
            "display": null,
            "flex": null,
            "flex_flow": null,
            "grid_area": null,
            "grid_auto_columns": null,
            "grid_auto_flow": null,
            "grid_auto_rows": null,
            "grid_column": null,
            "grid_gap": null,
            "grid_row": null,
            "grid_template_areas": null,
            "grid_template_columns": null,
            "grid_template_rows": null,
            "height": null,
            "justify_content": null,
            "justify_items": null,
            "left": null,
            "margin": null,
            "max_height": null,
            "max_width": null,
            "min_height": null,
            "min_width": null,
            "object_fit": null,
            "object_position": null,
            "order": null,
            "overflow": null,
            "overflow_x": null,
            "overflow_y": null,
            "padding": null,
            "right": null,
            "top": null,
            "visibility": null,
            "width": null
          }
        },
        "4bbdcadb66974d1983c2ff453a146de0": {
          "model_module": "@jupyter-widgets/controls",
          "model_name": "ProgressStyleModel",
          "model_module_version": "1.5.0",
          "state": {
            "_model_module": "@jupyter-widgets/controls",
            "_model_module_version": "1.5.0",
            "_model_name": "ProgressStyleModel",
            "_view_count": null,
            "_view_module": "@jupyter-widgets/base",
            "_view_module_version": "1.2.0",
            "_view_name": "StyleView",
            "bar_color": null,
            "description_width": ""
          }
        },
        "736a0a77d9c644dfb09dbe4a663c2ecb": {
          "model_module": "@jupyter-widgets/base",
          "model_name": "LayoutModel",
          "model_module_version": "1.2.0",
          "state": {
            "_model_module": "@jupyter-widgets/base",
            "_model_module_version": "1.2.0",
            "_model_name": "LayoutModel",
            "_view_count": null,
            "_view_module": "@jupyter-widgets/base",
            "_view_module_version": "1.2.0",
            "_view_name": "LayoutView",
            "align_content": null,
            "align_items": null,
            "align_self": null,
            "border": null,
            "bottom": null,
            "display": null,
            "flex": null,
            "flex_flow": null,
            "grid_area": null,
            "grid_auto_columns": null,
            "grid_auto_flow": null,
            "grid_auto_rows": null,
            "grid_column": null,
            "grid_gap": null,
            "grid_row": null,
            "grid_template_areas": null,
            "grid_template_columns": null,
            "grid_template_rows": null,
            "height": null,
            "justify_content": null,
            "justify_items": null,
            "left": null,
            "margin": null,
            "max_height": null,
            "max_width": null,
            "min_height": null,
            "min_width": null,
            "object_fit": null,
            "object_position": null,
            "order": null,
            "overflow": null,
            "overflow_x": null,
            "overflow_y": null,
            "padding": null,
            "right": null,
            "top": null,
            "visibility": null,
            "width": null
          }
        },
        "1edb9419b2f3422cb22c03e5a5a4fe89": {
          "model_module": "@jupyter-widgets/controls",
          "model_name": "DescriptionStyleModel",
          "model_module_version": "1.5.0",
          "state": {
            "_model_module": "@jupyter-widgets/controls",
            "_model_module_version": "1.5.0",
            "_model_name": "DescriptionStyleModel",
            "_view_count": null,
            "_view_module": "@jupyter-widgets/base",
            "_view_module_version": "1.2.0",
            "_view_name": "StyleView",
            "description_width": ""
          }
        }
      }
    }
  },
  "cells": [
    {
      "cell_type": "markdown",
      "source": [
        "# We are going to create a simple LSTM language model\n",
        "This model will get a few words or a big text as an input and then, Continue the text with\n",
        "creating words.\n",
        "\n",
        "This model will train on a small text file, with **`LSTM`** Neural Network and **`Many to One`** method.\n"
      ],
      "metadata": {
        "id": "pnRjXpFnf14t"
      }
    },
    {
      "cell_type": "code",
      "source": [
        "# Opening the data\n",
        "with open(\"anna.txt\", \"r\") as f:\n",
        "  text = f.read()\n",
        "\n",
        "text[:100]"
      ],
      "metadata": {
        "id": "OshkLbqjhUbh",
        "colab": {
          "base_uri": "https://localhost:8080/",
          "height": 53
        },
        "outputId": "eae1d56e-027d-4553-887a-485d474f96ab"
      },
      "execution_count": 16,
      "outputs": [
        {
          "output_type": "execute_result",
          "data": {
            "text/plain": [
              "'Chapter 1\\n\\n\\nHappy families are all alike; every unhappy family is unhappy in its own\\nway.\\n\\nEverythin'"
            ],
            "application/vnd.google.colaboratory.intrinsic+json": {
              "type": "string"
            }
          },
          "metadata": {},
          "execution_count": 16
        }
      ]
    },
    {
      "cell_type": "code",
      "source": [
        "# Printing the text informations\n",
        "\n",
        "text_length = len(text)\n",
        "characters  = tuple(set(text) )\n",
        "characters_length = len(characters)\n",
        "\n",
        "print(f\"This text contains {text_length} letters with {characters_length} characters.\")\n",
        "print(\"Characters:\",characters)"
      ],
      "metadata": {
        "id": "utx-Vu1WjjBn",
        "colab": {
          "base_uri": "https://localhost:8080/"
        },
        "outputId": "54e8c589-a5cc-4c8c-a89c-12b9b37e9753"
      },
      "execution_count": 17,
      "outputs": [
        {
          "output_type": "stream",
          "name": "stdout",
          "text": [
            "This text contains 1985223 letters with 83 characters.\n",
            "Characters: ('W', 'Z', '_', 'P', '(', ',', 'V', 'Y', ')', '4', 'd', \"'\", 'h', 'w', '`', 'z', 'U', 'p', 'u', 'R', 'a', 'v', 'A', '7', 'C', 'N', 'X', 'i', ' ', 'S', 'J', 'T', 't', 'r', 'D', 'k', ';', 'f', 'l', 'e', '0', '*', '?', 'K', '5', 'b', 'x', '8', '.', '2', '%', 'H', '\"', 'j', 'G', '6', 'B', '9', '@', 'I', 'F', 'n', 'o', 'c', '$', '/', 'Q', ':', '!', '1', 'L', 's', 'M', 'm', '\\n', '-', '&', '3', 'q', 'O', 'E', 'g', 'y')\n"
          ]
        }
      ]
    },
    {
      "cell_type": "markdown",
      "source": [
        "## Here we want to create two dictionaries\n",
        "1. First dictionary is **`int2char`**, this dictionary will get number and return character.\n",
        "2. Second dictionary is **`char2int`**, this dictionary will get character and return number.\n",
        "\n",
        "We create these dicts to be able to create the Neural Network inputs, and then convert\n",
        "the Neural Network outputs to characters.\n",
        "\n",
        "We all know that a Neural Network works with numbers not characters."
      ],
      "metadata": {
        "id": "NIr5wEf9kH1B"
      }
    },
    {
      "cell_type": "code",
      "source": [
        "int2char = dict(enumerate(characters))\n",
        "char2int = {ch:i for i,ch in int2char.items()}\n",
        "\n",
        "char2int"
      ],
      "metadata": {
        "id": "I6kop8tWkb-I",
        "colab": {
          "base_uri": "https://localhost:8080/"
        },
        "outputId": "214f362c-1ae7-45de-db46-88f7895bd09b"
      },
      "execution_count": 18,
      "outputs": [
        {
          "output_type": "execute_result",
          "data": {
            "text/plain": [
              "{'W': 0,\n",
              " 'Z': 1,\n",
              " '_': 2,\n",
              " 'P': 3,\n",
              " '(': 4,\n",
              " ',': 5,\n",
              " 'V': 6,\n",
              " 'Y': 7,\n",
              " ')': 8,\n",
              " '4': 9,\n",
              " 'd': 10,\n",
              " \"'\": 11,\n",
              " 'h': 12,\n",
              " 'w': 13,\n",
              " '`': 14,\n",
              " 'z': 15,\n",
              " 'U': 16,\n",
              " 'p': 17,\n",
              " 'u': 18,\n",
              " 'R': 19,\n",
              " 'a': 20,\n",
              " 'v': 21,\n",
              " 'A': 22,\n",
              " '7': 23,\n",
              " 'C': 24,\n",
              " 'N': 25,\n",
              " 'X': 26,\n",
              " 'i': 27,\n",
              " ' ': 28,\n",
              " 'S': 29,\n",
              " 'J': 30,\n",
              " 'T': 31,\n",
              " 't': 32,\n",
              " 'r': 33,\n",
              " 'D': 34,\n",
              " 'k': 35,\n",
              " ';': 36,\n",
              " 'f': 37,\n",
              " 'l': 38,\n",
              " 'e': 39,\n",
              " '0': 40,\n",
              " '*': 41,\n",
              " '?': 42,\n",
              " 'K': 43,\n",
              " '5': 44,\n",
              " 'b': 45,\n",
              " 'x': 46,\n",
              " '8': 47,\n",
              " '.': 48,\n",
              " '2': 49,\n",
              " '%': 50,\n",
              " 'H': 51,\n",
              " '\"': 52,\n",
              " 'j': 53,\n",
              " 'G': 54,\n",
              " '6': 55,\n",
              " 'B': 56,\n",
              " '9': 57,\n",
              " '@': 58,\n",
              " 'I': 59,\n",
              " 'F': 60,\n",
              " 'n': 61,\n",
              " 'o': 62,\n",
              " 'c': 63,\n",
              " '$': 64,\n",
              " '/': 65,\n",
              " 'Q': 66,\n",
              " ':': 67,\n",
              " '!': 68,\n",
              " '1': 69,\n",
              " 'L': 70,\n",
              " 's': 71,\n",
              " 'M': 72,\n",
              " 'm': 73,\n",
              " '\\n': 74,\n",
              " '-': 75,\n",
              " '&': 76,\n",
              " '3': 77,\n",
              " 'q': 78,\n",
              " 'O': 79,\n",
              " 'E': 80,\n",
              " 'g': 81,\n",
              " 'y': 82}"
            ]
          },
          "metadata": {},
          "execution_count": 18
        }
      ]
    },
    {
      "cell_type": "markdown",
      "source": [
        "## Now we want to encode whole text with numbers\n",
        "This means we want to replace all characters in text with numbers.\n",
        "\n",
        "For example if in char2int we have:\n",
        "1. H: 10\n",
        "2. e: 32\n",
        "3. l: 15\n",
        "4. o: 8\n",
        "\n",
        "The **`Hello`** word will be **`10 32 15 15 8`**."
      ],
      "metadata": {
        "id": "Nf9bG00lkb77"
      }
    },
    {
      "cell_type": "code",
      "source": [
        "# Ok let's do it\n",
        "import numpy as np\n",
        "\n",
        "encoded_text = np.array([char2int[ch] for ch in text])\n",
        "print(f\"Length of encoded text: {len(encoded_text)}\")\n",
        "encoded_text[:100]"
      ],
      "metadata": {
        "id": "-Kh2k-Pmkb58",
        "colab": {
          "base_uri": "https://localhost:8080/"
        },
        "outputId": "1b73cf8f-4dd8-4f6a-8c04-bc5572f81b31"
      },
      "execution_count": 19,
      "outputs": [
        {
          "output_type": "stream",
          "name": "stdout",
          "text": [
            "Length of encoded text: 1985223\n"
          ]
        },
        {
          "output_type": "execute_result",
          "data": {
            "text/plain": [
              "array([24, 12, 20, 17, 32, 39, 33, 28, 69, 74, 74, 74, 51, 20, 17, 17, 82,\n",
              "       28, 37, 20, 73, 27, 38, 27, 39, 71, 28, 20, 33, 39, 28, 20, 38, 38,\n",
              "       28, 20, 38, 27, 35, 39, 36, 28, 39, 21, 39, 33, 82, 28, 18, 61, 12,\n",
              "       20, 17, 17, 82, 28, 37, 20, 73, 27, 38, 82, 28, 27, 71, 28, 18, 61,\n",
              "       12, 20, 17, 17, 82, 28, 27, 61, 28, 27, 32, 71, 28, 62, 13, 61, 74,\n",
              "       13, 20, 82, 48, 74, 74, 80, 21, 39, 33, 82, 32, 12, 27, 61])"
            ]
          },
          "metadata": {},
          "execution_count": 19
        }
      ]
    },
    {
      "cell_type": "code",
      "source": [
        "encoded_text.shape"
      ],
      "metadata": {
        "id": "CBeINq9iyp19",
        "colab": {
          "base_uri": "https://localhost:8080/"
        },
        "outputId": "360d3818-9a73-4af1-9714-39606de58617"
      },
      "execution_count": 20,
      "outputs": [
        {
          "output_type": "execute_result",
          "data": {
            "text/plain": [
              "(1985223,)"
            ]
          },
          "metadata": {},
          "execution_count": 20
        }
      ]
    },
    {
      "cell_type": "markdown",
      "source": [
        "## Create batches\n",
        "Here we implement a function to get the **`encoded data`**, **`batch size`** and **`sequence length`** to create batches of data."
      ],
      "metadata": {
        "id": "3Y-fnzc0wz15"
      }
    },
    {
      "cell_type": "code",
      "source": [
        "def get_batches(encoded, batch_size, seq_length):\n",
        "\n",
        "  # Number of characters in each batch\n",
        "  batch_size_total = batch_size * seq_length\n",
        "\n",
        "  # Number of batches we can create\n",
        "  n_batches = len(encoded) // batch_size_total\n",
        "\n",
        "  # Cut the encoded\n",
        "  encoded = encoded[:n_batches * batch_size_total]\n",
        "\n",
        "  # Reshape the encoded\n",
        "  encoded = encoded.reshape(batch_size, int(len(encoded)/batch_size))\n",
        "\n",
        "  for n in range(0, encoded.shape[1], seq_length):\n",
        "    x = encoded[:, n:n+seq_length]\n",
        "    y = np.zeros_like(x)\n",
        "\n",
        "    try:\n",
        "      y[:, :-1], y[:, -1] = x[:, 1:], x[:, n+seq_length]\n",
        "    except IndexError:\n",
        "      y[:, :-1], y[:, -1] = x[:, 1:], x[:, 0]\n",
        "    yield x, y"
      ],
      "metadata": {
        "id": "QJ0BPqKvw1W_"
      },
      "execution_count": 21,
      "outputs": []
    },
    {
      "cell_type": "code",
      "source": [
        "x, y = next(get_batches(encoded_text, 32, 50))\n",
        "print(f\"x:\\n {x[:3, :10]}\")\n",
        "print(f\"\\ny:\\n {y[:3, :10]}\")"
      ],
      "metadata": {
        "id": "2mo7INE-w2o5",
        "colab": {
          "base_uri": "https://localhost:8080/"
        },
        "outputId": "5f9b3995-2c2d-428e-ec46-dbc76235434f"
      },
      "execution_count": 22,
      "outputs": [
        {
          "output_type": "stream",
          "name": "stdout",
          "text": [
            "x:\n",
            " [[24 12 20 17 32 39 33 28 69 74]\n",
            " [61 62 21 27 32 63 12  5 28 13]\n",
            " [71  5 28 13 12 62 74 20 38 13]]\n",
            "\n",
            "y:\n",
            " [[12 20 17 32 39 33 28 69 74 74]\n",
            " [62 21 27 32 63 12  5 28 13 12]\n",
            " [ 5 28 13 12 62 74 20 38 13 20]]\n"
          ]
        }
      ]
    },
    {
      "cell_type": "markdown",
      "source": [
        "## Now we have to create a **`one hot encoding`** function"
      ],
      "metadata": {
        "id": "K-XFf4hdkb4E"
      }
    },
    {
      "cell_type": "code",
      "source": [
        "def one_hot_encoder(array, n_labels):\n",
        "  one_hot = np.zeros((np.multiply(*array.shape), n_labels), dtype=np.float32)\n",
        "\n",
        "  one_hot[np.arange(one_hot.shape[0]), array.flatten()] = 1\n",
        "\n",
        "  one_hot = one_hot.reshape((*array.shape, n_labels))\n",
        "\n",
        "  return one_hot"
      ],
      "metadata": {
        "id": "F1LSpKqWkb1j"
      },
      "execution_count": 23,
      "outputs": []
    },
    {
      "cell_type": "code",
      "source": [
        "array = np.array([[3, 4], [8, 1]])\n",
        "one_hot_encoder(array, 9)"
      ],
      "metadata": {
        "id": "SbIZTsQKkbzZ",
        "colab": {
          "base_uri": "https://localhost:8080/"
        },
        "outputId": "8ced7ae1-dcec-4256-c218-c98c2a501fbd"
      },
      "execution_count": 24,
      "outputs": [
        {
          "output_type": "execute_result",
          "data": {
            "text/plain": [
              "array([[[0., 0., 0., 1., 0., 0., 0., 0., 0.],\n",
              "        [0., 0., 0., 0., 1., 0., 0., 0., 0.]],\n",
              "\n",
              "       [[0., 0., 0., 0., 0., 0., 0., 0., 1.],\n",
              "        [0., 1., 0., 0., 0., 0., 0., 0., 0.]]], dtype=float32)"
            ]
          },
          "metadata": {},
          "execution_count": 24
        }
      ]
    },
    {
      "cell_type": "markdown",
      "source": [
        "## Now it's time to implement the model"
      ],
      "metadata": {
        "id": "9ofJ1-BM84N_"
      }
    },
    {
      "cell_type": "code",
      "source": [
        "from torch import nn\n",
        "import torch\n",
        "class CharRNN(nn.Module):\n",
        "  def __init__(self, characters, n_hidden, n_layers, drop_prob=0.5):\n",
        "    super().__init__()\n",
        "\n",
        "    self.characters = characters\n",
        "    self.n_hidden = n_hidden\n",
        "    self.n_layers = n_layers\n",
        "    self.drop_prob = drop_prob\n",
        "    self.int2char = dict(enumerate(self.characters))\n",
        "    self.char2int = {ch: ii for ii, ch in self.int2char.items()}\n",
        "\n",
        "    self.device = \"cuda\" if torch.cuda.is_available() else \"cpu\"\n",
        "    self.lstm = nn.LSTM(input_size=len(self.characters),\n",
        "                        hidden_size=n_hidden,\n",
        "                        num_layers=n_layers,\n",
        "                        dropout=drop_prob,\n",
        "                        batch_first=True)\n",
        "    self.dropout = nn.Dropout(self.drop_prob)\n",
        "    self.fc = nn.Linear(in_features=n_hidden, out_features=len(self.characters))\n",
        "\n",
        "  def forward(self, input, hidden):\n",
        "\n",
        "    output, hidden = self.lstm(input, hidden)\n",
        "    output = self.dropout(output)\n",
        "    output = output.contiguous().view(-1, self.n_hidden)\n",
        "    output = self.fc(output)\n",
        "\n",
        "    return output, hidden\n",
        "\n",
        "  def init_hidden(self, batch_size):\n",
        "\n",
        "    hidden = (torch.zeros(self.n_layers, batch_size, self.n_hidden).to(self.device),\n",
        "              torch.zeros(self.n_layers, batch_size, self.n_hidden).to(self.device))\n",
        "\n",
        "    return hidden"
      ],
      "metadata": {
        "id": "yMofoQwhsLKX"
      },
      "execution_count": 25,
      "outputs": []
    },
    {
      "cell_type": "code",
      "source": [
        "# Create an instance\n",
        "n_hidden = 1000\n",
        "n_layers = 2\n",
        "model = CharRNN(characters=characters,\n",
        "                n_hidden=n_hidden,\n",
        "                n_layers=n_layers)\n",
        "model"
      ],
      "metadata": {
        "id": "FYm59E_GBeU7",
        "colab": {
          "base_uri": "https://localhost:8080/"
        },
        "outputId": "610e7b8e-0367-4858-8d1f-385c63ec0a4a"
      },
      "execution_count": 26,
      "outputs": [
        {
          "output_type": "execute_result",
          "data": {
            "text/plain": [
              "CharRNN(\n",
              "  (lstm): LSTM(83, 1000, num_layers=2, batch_first=True, dropout=0.5)\n",
              "  (dropout): Dropout(p=0.5, inplace=False)\n",
              "  (fc): Linear(in_features=1000, out_features=83, bias=True)\n",
              ")"
            ]
          },
          "metadata": {},
          "execution_count": 26
        }
      ]
    },
    {
      "cell_type": "code",
      "source": [
        "# Move model to device\n",
        "model = model.to(model.device)\n",
        "model.device"
      ],
      "metadata": {
        "id": "UYgJGqQgct7b",
        "colab": {
          "base_uri": "https://localhost:8080/",
          "height": 35
        },
        "outputId": "b7a29a32-7575-428f-b662-0e2f3ae2353c"
      },
      "execution_count": 27,
      "outputs": [
        {
          "output_type": "execute_result",
          "data": {
            "text/plain": [
              "'cuda'"
            ],
            "application/vnd.google.colaboratory.intrinsic+json": {
              "type": "string"
            }
          },
          "metadata": {},
          "execution_count": 27
        }
      ]
    },
    {
      "cell_type": "code",
      "source": [
        "# Use dummy input and hidden tensor to see the model output shapes\n",
        "dummy_x = torch.rand(1, 1, len(characters)).to(model.device)\n",
        "dummy_hidden = model.init_hidden(1)\n",
        "print(f\"Input shape: {dummy_x.shape}\")\n",
        "print(f\"Hidden shape: {(dummy_hidden[0].shape, dummy_hidden[1].shape)}\")\n",
        "print(\"-----\"*20)\n",
        "\n",
        "output, hidden = model(dummy_x, dummy_hidden)\n",
        "print(f\"Output shape: {output.shape}, Hidden shape: {hidden[0].shape}, {hidden[1].shape}\")"
      ],
      "metadata": {
        "id": "D5yvAm6nCsQ2",
        "colab": {
          "base_uri": "https://localhost:8080/"
        },
        "outputId": "ddc7d4e1-c681-4f37-844c-10c8d620b52d"
      },
      "execution_count": 28,
      "outputs": [
        {
          "output_type": "stream",
          "name": "stdout",
          "text": [
            "Input shape: torch.Size([1, 1, 83])\n",
            "Hidden shape: (torch.Size([2, 1, 1000]), torch.Size([2, 1, 1000]))\n",
            "----------------------------------------------------------------------------------------------------\n",
            "Output shape: torch.Size([1, 83]), Hidden shape: torch.Size([2, 1, 1000]), torch.Size([2, 1, 1000])\n"
          ]
        }
      ]
    },
    {
      "cell_type": "markdown",
      "source": [
        "## Train Time"
      ],
      "metadata": {
        "id": "RNU_VfKeakQX"
      }
    },
    {
      "cell_type": "code",
      "source": [
        "import time\n",
        "from tqdm.auto import tqdm\n",
        "\n",
        "def train(model, data, one_hot_encoder, characters, device,\n",
        "          epochs=10, batch_size=50, seq_length=50,\n",
        "          clip=5, val_frac=0.05, print_every=10, lr=0.001):\n",
        "\n",
        "    optimizer = torch.optim.Adam(params=model.parameters(), lr=lr)\n",
        "    criterion = nn.CrossEntropyLoss()\n",
        "\n",
        "    # Train and validation split\n",
        "    val_idx = int(len(data)*(1-val_frac))\n",
        "    data, val_data = data[:val_idx], data[val_idx:]\n",
        "\n",
        "    n_characters = len(characters)\n",
        "\n",
        "    total_train_losses = []\n",
        "    total_val_losses = []\n",
        "\n",
        "    for epoch in tqdm(range(epochs)):\n",
        "\n",
        "        model.train() # Set to train mode\n",
        "\n",
        "        # initialization hidden\n",
        "        hidden = model.init_hidden(batch_size)\n",
        "        train_losses, val_losses = 0, 0\n",
        "\n",
        "        counter = 0\n",
        "        for batch_number, (x, y) in enumerate(get_batches(data, batch_size, seq_length)):\n",
        "            counter += 1\n",
        "\n",
        "            # Create one hot vectors\n",
        "            x = one_hot_encoder(x, n_characters)\n",
        "\n",
        "            # Change datatype from numpy float to torch float\n",
        "            inputs, targets = torch.from_numpy(x), torch.from_numpy(y)\n",
        "\n",
        "            # Move data to the target device\n",
        "            inputs, targets = inputs.to(device), targets.to(device)\n",
        "\n",
        "            # Forward pass\n",
        "            output, hidden = model(inputs, hidden)\n",
        "\n",
        "            # Calculate the loss\n",
        "            loss = criterion(output, targets.view(batch_size*seq_length).long())\n",
        "            train_losses += loss.item()\n",
        "\n",
        "            # Optimizer zero grad\n",
        "            optimizer.zero_grad()\n",
        "\n",
        "            # Loss backward\n",
        "            loss.backward()\n",
        "\n",
        "            # Clip gradients\n",
        "            nn.utils.clip_grad_norm_(model.parameters(), clip)\n",
        "\n",
        "            # Optimizer step\n",
        "            optimizer.step()\n",
        "\n",
        "            # Detach hidden state to prevent backprop through entire sequence\n",
        "            hidden = tuple([h.detach() for h in hidden])\n",
        "\n",
        "\n",
        "        val_h = model.init_hidden(batch_size)\n",
        "        val_counter = 0\n",
        "        model.eval()  # Set to evaluation mode\n",
        "        with torch.inference_mode():  # Disable gradient calculation\n",
        "            for x, y in get_batches(val_data, batch_size, seq_length):\n",
        "                val_counter += 1\n",
        "                x = one_hot_encoder(x, n_characters)\n",
        "                x, y = torch.from_numpy(x), torch.from_numpy(y)\n",
        "                x, y = x.to(device), y.to(device)\n",
        "\n",
        "                output, val_h = model(x, val_h)\n",
        "                val_loss = criterion(output, y.view(batch_size*seq_length).long())\n",
        "                val_losses += val_loss.item()\n",
        "\n",
        "\n",
        "        train_losses  /= counter\n",
        "        val_losses  /= val_counter\n",
        "        total_train_losses.append(train_losses)\n",
        "        total_val_losses.append(val_losses)\n",
        "\n",
        "        print(f\"Epoch: {epoch+1}/{epochs} | Loss: {train_losses:.4f} | Val loss: {val_losses:.4f}\")\n",
        "\n",
        "    return total_train_losses, total_val_losses"
      ],
      "metadata": {
        "id": "GWRDVrm4ajT4"
      },
      "execution_count": 29,
      "outputs": []
    },
    {
      "cell_type": "code",
      "source": [
        "epochs=20\n",
        "batch_size=128\n",
        "seq_length=100\n",
        "clip=5\n",
        "val_frac=0.05\n",
        "print_every=130\n",
        "lr=0.001\n",
        "\n",
        "total_train_losses, total_val_losses = train(model=model, data=encoded_text, one_hot_encoder=one_hot_encoder,\n",
        "      characters=characters, device=model.device, epochs=epochs, batch_size=batch_size, seq_length=seq_length,\n",
        "      val_frac=val_frac, print_every=print_every, lr=lr)"
      ],
      "metadata": {
        "id": "xf0jZVpAemk9",
        "colab": {
          "base_uri": "https://localhost:8080/",
          "height": 409,
          "referenced_widgets": [
            "ef7423c7a9fc4e37a8ff9811210104f6",
            "fc5b3f5827d04728b7afd684c464cf40",
            "557f0375ec1f4e18a3560fe7dbf8432d",
            "842aa566c75e4248b9357231928cfe48",
            "f5c52a148edb4503a0d82af102555fe4",
            "c535e46597e54de99e6ed8d12956f53f",
            "6eb8710ab95144e4b2b52f7a90b1b3dc",
            "757b2de9b31141f5a2ec0538aa7d0da8",
            "4bbdcadb66974d1983c2ff453a146de0",
            "736a0a77d9c644dfb09dbe4a663c2ecb",
            "1edb9419b2f3422cb22c03e5a5a4fe89"
          ]
        },
        "outputId": "03fe3e7c-4811-4f4b-c763-6c1b43929ef8"
      },
      "execution_count": 30,
      "outputs": [
        {
          "output_type": "display_data",
          "data": {
            "text/plain": [
              "  0%|          | 0/20 [00:00<?, ?it/s]"
            ],
            "application/vnd.jupyter.widget-view+json": {
              "version_major": 2,
              "version_minor": 0,
              "model_id": "ef7423c7a9fc4e37a8ff9811210104f6"
            }
          },
          "metadata": {}
        },
        {
          "output_type": "stream",
          "name": "stdout",
          "text": [
            "Epoch: 1/20 | Loss: 2.9334 | Val loss: 2.3971\n",
            "Epoch: 2/20 | Loss: 2.1204 | Val loss: 1.9147\n",
            "Epoch: 3/20 | Loss: 1.7360 | Val loss: 1.6772\n",
            "Epoch: 4/20 | Loss: 1.5520 | Val loss: 1.5549\n",
            "Epoch: 5/20 | Loss: 1.4491 | Val loss: 1.4948\n",
            "Epoch: 6/20 | Loss: 1.3836 | Val loss: 1.4523\n",
            "Epoch: 7/20 | Loss: 1.3351 | Val loss: 1.4217\n",
            "Epoch: 8/20 | Loss: 1.2939 | Val loss: 1.3985\n",
            "Epoch: 9/20 | Loss: 1.2588 | Val loss: 1.3797\n",
            "Epoch: 10/20 | Loss: 1.2319 | Val loss: 1.3668\n",
            "Epoch: 11/20 | Loss: 1.2072 | Val loss: 1.3557\n",
            "Epoch: 12/20 | Loss: 1.1868 | Val loss: 1.3523\n",
            "Epoch: 13/20 | Loss: 1.1691 | Val loss: 1.3455\n",
            "Epoch: 14/20 | Loss: 1.1513 | Val loss: 1.3392\n",
            "Epoch: 15/20 | Loss: 1.1356 | Val loss: 1.3361\n",
            "Epoch: 16/20 | Loss: 1.1227 | Val loss: 1.3360\n",
            "Epoch: 17/20 | Loss: 1.1089 | Val loss: 1.3354\n",
            "Epoch: 18/20 | Loss: 1.0965 | Val loss: 1.3383\n",
            "Epoch: 19/20 | Loss: 1.0851 | Val loss: 1.3445\n",
            "Epoch: 20/20 | Loss: 1.0751 | Val loss: 1.3443\n"
          ]
        }
      ]
    },
    {
      "cell_type": "code",
      "source": [
        "import matplotlib.pyplot as plt\n",
        "\n",
        "plt.figure(figsize=(15, 7))\n",
        "\n",
        "plt.plot(total_train_losses, 'r--' ,label=\"Train Loss\")\n",
        "plt.plot(total_val_losses, 'b--',label=\"Validation Loss\")\n",
        "plt.legend()"
      ],
      "metadata": {
        "id": "ezCX8OaDgA62",
        "colab": {
          "base_uri": "https://localhost:8080/",
          "height": 443
        },
        "outputId": "c5926829-7cb7-4f1f-c5c1-1f1a22a1b2b2"
      },
      "execution_count": 31,
      "outputs": [
        {
          "output_type": "execute_result",
          "data": {
            "text/plain": [
              "<matplotlib.legend.Legend at 0x79f36376d490>"
            ]
          },
          "metadata": {},
          "execution_count": 31
        },
        {
          "output_type": "display_data",
          "data": {
            "text/plain": [
              "<Figure size 1500x700 with 1 Axes>"
            ],
            "image/png": "[encoded data removed]"
          },
          "metadata": {}
        }
      ]
    },
    {
      "cell_type": "markdown",
      "source": [
        "## Test Time"
      ],
      "metadata": {
        "id": "7FC2GmxKql_3"
      }
    },
    {
      "cell_type": "code",
      "source": [
        "import numpy as np\n",
        "import torch\n",
        "\n",
        "def generate_text(model, size=100, prime=\"The\", top_k=2):\n",
        "    \"\"\"\n",
        "    Generates text using a trained character-level RNN model.\n",
        "\n",
        "    This function combines the functionality of both predict() and sample() functions:\n",
        "    - Predicts the next character given the current character and hidden state\n",
        "    - Samples characters sequentially to generate coherent text\n",
        "\n",
        "    Args:\n",
        "        model: The trained RNN model\n",
        "        size: Length of text to generate (excluding the prime sequence)\n",
        "        prime: Initial string to start generation\n",
        "        top_k: Number of top candidates to consider when sampling next character\n",
        "        h: Initial hidden state (if None, model will initialize it)\n",
        "\n",
        "    Returns:\n",
        "        Generated text string\n",
        "    \"\"\"\n",
        "\n",
        "    # Ensure model is on the correct device (CPU/GPU)\n",
        "    model.to(model.device)\n",
        "\n",
        "    # Initialize list to store generated characters\n",
        "    chars = [ch for ch in prime]\n",
        "\n",
        "    # Initialize hidden state if not provided\n",
        "    hidden = model.init_hidden(1)\n",
        "\n",
        "    # Process the prime sequence to set up initial hidden state\n",
        "    for ch in prime:\n",
        "        # Convert character to one-hot encoded input\n",
        "        x = np.array([[model.char2int[ch]]])\n",
        "        x = one_hot_encoder(x, len(model.characters))\n",
        "\n",
        "        # Convert to torch tensor and move to model's device\n",
        "        inputs = torch.from_numpy(x).to(model.device)\n",
        "\n",
        "        # Detach hidden state from history for current computation\n",
        "        hidden = tuple([each.data for each in hidden])\n",
        "\n",
        "        # Forward pass through the model\n",
        "        out, hidden = model(inputs, hidden)\n",
        "\n",
        "    # Start generating new characters beyond the prime sequence\n",
        "    for i in range(size):\n",
        "        # Get probabilities for next character\n",
        "        p = torch.softmax(out, dim=1).data\n",
        "        p = p.to(model.device)\n",
        "\n",
        "        # Get top k characters if specified\n",
        "        if top_k is None:\n",
        "            top_ch = np.arange(len(model.characters))\n",
        "        else:\n",
        "            p, top_ch = p.topk(top_k)\n",
        "            top_ch = top_ch.cpu().numpy().squeeze()\n",
        "\n",
        "        # Normalize probabilities and sample\n",
        "        p = p.cpu().numpy().squeeze()\n",
        "        next_char = np.random.choice(top_ch, p=p/p.sum())\n",
        "\n",
        "        # Convert to character and add to sequence\n",
        "        next_char = model.int2char[next_char]\n",
        "        chars.append(next_char)\n",
        "\n",
        "        # Prepare next input\n",
        "        x = np.array([[model.char2int[next_char]]])\n",
        "        x = one_hot_encoder(x, len(model.characters))\n",
        "        inputs = torch.from_numpy(x).to(model.device)\n",
        "\n",
        "        # Forward pass for next character\n",
        "        out, hidden = model(inputs, hidden)\n",
        "\n",
        "    return ''.join(chars)"
      ],
      "metadata": {
        "id": "_fAFcZiaXhsc"
      },
      "execution_count": 38,
      "outputs": []
    },
    {
      "cell_type": "code",
      "source": [
        "print(generate_text(model, prime=\"Hello \", size=100))"
      ],
      "metadata": {
        "colab": {
          "base_uri": "https://localhost:8080/"
        },
        "id": "lwAN3uGhVP5v",
        "outputId": "6adb9128-d5af-4a6a-e256-93e8fccf2b2a"
      },
      "execution_count": 41,
      "outputs": [
        {
          "output_type": "stream",
          "name": "stdout",
          "text": [
            "Hello so many there was\n",
            "an interesting person when they had told her to say that he had not been to say to\n"
          ]
        }
      ]
    },
    {
      "cell_type": "markdown",
      "source": [
        "## Save Model"
      ],
      "metadata": {
        "id": "zOXlEdC6qp31"
      }
    },
    {
      "cell_type": "code",
      "source": [
        "model_name = \"rnn_20_epoch.net\"\n",
        "\n",
        "checkpoint = {\"n_hidden\": model.n_hidden,\n",
        "              \"n_layers\": model.n_layers,\n",
        "              \"state_dict\": model.state_dict(),\n",
        "              \"tokens\": model.characters}\n",
        "\n",
        "with open(model_name, 'wb') as f:\n",
        "  torch.save(checkpoint, f)"
      ],
      "metadata": {
        "id": "9bp_PnPbY2nh"
      },
      "execution_count": 42,
      "outputs": []
    },
    {
      "cell_type": "markdown",
      "source": [
        "## Load Model"
      ],
      "metadata": {
        "id": "2WsqPbbZrFNP"
      }
    },
    {
      "cell_type": "code",
      "source": [
        "with open(\"rnn_20_epoch.net\", 'rb') as f:\n",
        "  checkpoint = torch.load(f)\n",
        "\n",
        "loaded_model = CharRNN(checkpoint['tokens'], n_hidden=checkpoint['n_hidden'], n_layers=checkpoint['n_layers'])\n",
        "loaded_model.load_state_dict(checkpoint['state_dict'])"
      ],
      "metadata": {
        "colab": {
          "base_uri": "https://localhost:8080/"
        },
        "id": "ljYJTBW2rG8X",
        "outputId": "f84d0bed-4190-460f-a42b-ff0accca2ff6"
      },
      "execution_count": 44,
      "outputs": [
        {
          "output_type": "execute_result",
          "data": {
            "text/plain": [
              "<All keys matched successfully>"
            ]
          },
          "metadata": {},
          "execution_count": 44
        }
      ]
    },
    {
      "cell_type": "markdown",
      "source": [
        "## Use Loaded Model"
      ],
      "metadata": {
        "id": "6o5baHI5rNI8"
      }
    },
    {
      "cell_type": "code",
      "source": [
        "print(generate_text(loaded_model, prime=\"tobe or not \", size=100))"
      ],
      "metadata": {
        "colab": {
          "base_uri": "https://localhost:8080/"
        },
        "id": "biIeF5FerPyQ",
        "outputId": "703faf43-da4a-46d6-efe3-102b89c3eafb"
      },
      "execution_count": 52,
      "outputs": [
        {
          "output_type": "stream",
          "name": "stdout",
          "text": [
            "tobe or not to\n",
            "be able to do. I should be strange to the secret position as the sould\n",
            "of company, to bear the si\n"
          ]
        }
      ]
    },
    {
      "cell_type": "code",
      "source": [],
      "metadata": {
        "id": "IvGfJn8Ev6Kb"
      },
      "execution_count": null,
      "outputs": []
    }
  ]
}